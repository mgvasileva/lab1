{
 "cells": [
  {
   "cell_type": "code",
   "execution_count": null,
   "metadata": {},
   "outputs": [],
   "source": [
    "# Импортируем os для работы с консольным Mystem.\n",
    "import os\n",
    "# Импортируем библиотеку для деления на слоги.\n",
    "import rusyllab\n",
    "\n",
    "# Пути к входному файлу, Mystem и выходному файлу.\n",
    "book_path = 'ovod.txt'\n",
    "mystem_path = 'mystem'\n",
    "output_filename = 'output_mystem.txt'\n",
    "# Объясняем Mystem, что нужно сделать\n",
    "os.system(f\"{mystem_path} -ndi {book_path} {output_filename}\")"
   ]
  },
  {
   "cell_type": "code",
   "execution_count": null,
   "metadata": {},
   "outputs": [],
   "source": [
    "# Открываем файл с обработанным текстом\n",
    "with open('output_mystem.txt', encoding='utf-8') as f:\n",
    "    text = f.read()\n",
    "    text = [word.lower() for word in text.split('\\n')]\n",
    "    text.pop()\n",
    "a = \"}\"\n",
    "text = [word.split(\"{\") for word in text]\n",
    "# Делим на слоги\n",
    "for word in text:\n",
    "    word[0] = rusyllab.split_word(word[0])\n",
    "    word[-1] = word[-1].strip(a)\n"
   ]
  },
  {
   "cell_type": "code",
   "execution_count": null,
   "metadata": {},
   "outputs": [],
   "source": [
    "\n",
    "def addPostfix(postfix, morphs, curLevel):\n",
    "    \"\"\"Функция принимает на вход список слогов, результат морфологического анализа и узел в словаре.\"\"\"\n",
    "    # Больше нечего добавлять.\n",
    "    if len(postfix) == 0:\n",
    "        return\n",
    "    # Такого начала нет в словаре. Его надо добавить.\n",
    "    if curLevel.get(postfix[0], None) == None:\n",
    "        curLevel[postfix[0]] = [[], {}]\n",
    "    # Добавляем результат морфологического анализа к последнему префиксу, если там такого ещё нет.\n",
    "        if postfix.index(postfix[0]) == len(postfix) - 1:\n",
    "            if morphs not in curLevel[postfix[0]][0]:\n",
    "                curLevel[postfix[0]][0].append(morphs)\n",
    "    # Добавляем оставшуюся часть в соответствующий узел.\n",
    "    addPostfix(postfix[1:], morphs, curLevel[postfix[0]][1])"
   ]
  },
  {
   "cell_type": "code",
   "execution_count": null,
   "metadata": {},
   "outputs": [],
   "source": [
    "# Создаем дерево.\n",
    "prefix_tree = dict()\n",
    "for word in text:\n",
    "    addPostfix(word[0], word[1], prefix_tree)"
   ]
  }
 ],
 "metadata": {
  "kernelspec": {
   "display_name": "Python 3",
   "language": "python",
   "name": "python3"
  },
  "language_info": {
   "codemirror_mode": {
    "name": "ipython",
    "version": 3
   },
   "file_extension": ".py",
   "mimetype": "text/x-python",
   "name": "python",
   "nbconvert_exporter": "python",
   "pygments_lexer": "ipython3",
   "version": "3.7.4"
  }
 },
 "nbformat": 4,
 "nbformat_minor": 2
}
